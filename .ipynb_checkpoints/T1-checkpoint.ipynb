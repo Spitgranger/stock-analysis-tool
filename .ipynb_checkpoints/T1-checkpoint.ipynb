{
 "cells": [
  {
   "cell_type": "markdown",
   "metadata": {
    "deletable": false,
    "editable": false,
    "nbgrader": {
     "cell_type": "markdown",
     "checksum": "9b1ca9b96740ced1516713c1165ef96a",
     "grade": false,
     "grade_id": "cell-5d3e4d27bd73b3a4",
     "locked": true,
     "schema_version": 3,
     "solution": false,
     "task": false
    }
   },
   "source": [
    "### COMPSCI 1MD3 - Winer 2022\n",
    "\n",
    "## Instructor : Nicholas Moore\n",
    "\n",
    "## Maximum Grade: 36/31\n",
    "\n",
    "### Special Instructions - Please read\n",
    "\n",
    "* DO NOT RENAME THE ASSIGNMENT FILE (otherwise it might not be submitted or graded).\n",
    "* DO NOT USE FUNCTION NAMES OTHER THAN THOSE PROVIDED IN THE QUESTION (or you will get zero for the question).\n",
    "    - You may introduce new functions to aid in your work, but you cannot replace the function names that are explicitly stated.\n",
    "* DO NOT CHANGE THE THE NUMBER OF FUNCTION ARGUMENTS, USE THEM AS PROVIDED.\n",
    "    - If you add a default parameter, that is fine. You cannot alter a test case to make your code run though!\n",
    "* Validate your notebook before submitting\n",
    "* You must Submit the assignment from the assignments tab before the deadline.  Late submissions will not be accepted.  The only proof that your work was completed before the deadline is an on-time submission.\n",
    "* If you are having trouble with the server not responding, you are probably trying to execute and infinite loop.  To remedy this:\n",
    "    * click the stop button on the tool bar (proportional response), or\n",
    "    * go to \\\"Control Panel\\\" >> \\\"Stop My Server\\\" >> \\\"Start My Server\\\" (nuclear option).  Note that you will lose any unsaved work with this one.\n",
    " \n",
    "This test became available at 9:00am EST, Saturday March 5th, and must be submitted by 9:00am EST, Sunday March 6th. \n",
    "\n",
    "THERE IS NO GRACE PERIOD FOR TEST SUBMISSIONS. YOU MUST SUBMIT BY THIS TIME OR YOU WILL GET ZERO.\n",
    "\n",
    "This is an open-book test, which means you are permitted to use reference material, such as wikipedia and the python documentation at python.org\n",
    "\n",
    "This is NOT a collaborative assessment.  These tests will be evaluated for plagiarism, and offenders will certainly be prosecuted.  Remember: never share your password, and never share your code! People who share their code are just as guilty of plagiarism as those who use it. \n",
    "\n",
    "If you have questions for Professor Nick Moore or the TAs, please submit them to the Piazza. If it is an urgent problem, please contact a TA as soon as possible via email! \n",
    "\n",
    "- **The use of Discord during the 24 hour period is limited within this testing period**. \n",
    "- Please do not share your solutions on Discord, Chegg, or any other website. \n",
    "- Answering any Discord question during the time of the test +12 hours is considiered academic dishonesty. You are not permitted to speak to your fellow students about this test until all grades are released.\n",
    "- Posting of any code whatsoever in a non-private post will be considered Academic Dishonesty. The only person who can see ANY code is a TA.\n",
    "- Students may not discuss any answers relevant to the test until the marks have been distrbuted and returned; some students have extensions! Yes, I am saying this twice. We are not joking. \n",
    "\n",
    "Good luck!  "
   ]
  },
  {
   "cell_type": "code",
   "execution_count": null,
   "metadata": {
    "deletable": false,
    "editable": false,
    "nbgrader": {
     "cell_type": "code",
     "checksum": "e9205c130d2a61a75e61f9e1d4ed7bc1",
     "grade": false,
     "grade_id": "cell-c901a51f1c29a686",
     "locked": true,
     "schema_version": 3,
     "solution": false,
     "task": false
    }
   },
   "outputs": [],
   "source": [
    "def tester(a, b=True):\n",
    "    return 'You Passed!' if a == b else f'You failed! -- {a} != {b}'"
   ]
  },
  {
   "cell_type": "markdown",
   "metadata": {
    "deletable": false,
    "editable": false,
    "nbgrader": {
     "cell_type": "markdown",
     "checksum": "5b1bea2ddc10c6cbfc86b3170d5dadd4",
     "grade": false,
     "grade_id": "cell-a5caa8f717b02bee",
     "locked": true,
     "schema_version": 3,
     "solution": false,
     "task": false
    }
   },
   "source": [
    "## Question 1 - Employment is Conditional [5 points]\n",
    "\n",
    "For some reason, our world is a competitive nightmare, and that can make things pretty interesting. In this specific scenario, the 1MD3 course is looking to hire TAs, and we have some pretty gnarly expectations of our TAs.\n",
    "\n",
    "Let's introduce our 4 potential hires:\n",
    "\n",
    "- **Harley:** Harley is a Poli-Sci student from Oakville, Ontario. Her main reason for wanting to TA this course is simple: Financial Reasons.\n",
    "- **Jason:** Jason is a Law student from Toronto, Ontario. His main reason for wanting to TA is to practice communication with lots of students.\n",
    "- **Tim:**  Tim is a Comp-Sci from Guelph, Ontario. Tim would take the job if no one else gets it since it is his field of interest.\n",
    "- **Ivy:** Ivy is a Physical-Fitness student from Orangeville, Ontario. Ivy is looking for a light course to TA, and avoids people if possible.\n",
    "\n",
    "Write a Python function, `job_winner`, that takes in a `pay_rate`, `student_count`, and `city` variable, and returns a string with the name of who gets the job. Here are the conditions in which the job will be awarded, in order of priority (unless the condition states otherwise).\n",
    "\n",
    "- Harley wants money above all else, so she will take the job only if:\n",
    "    - `pay` is greater than \\$28.50/hr, OR\n",
    "    - `pay` is greater than \\$24.13/hr and the `city` is Oakville.\n",
    "- Jason is looking for a lot of people, so he will only take the job if:\n",
    "    - `student_count` is greater than 280 and the `city` is not Toronto, OR\n",
    "    - `student_count` is greater than 195 if the `city` is Toronto, and the `pay` is greater than or equal to \\$25.80/hr\n",
    "- Ivy is an appealing applicant, so she is GUARANTEED the job if:\n",
    "    - `student_count` is less than 125 and the `city` is not Orangeville (she wants to leave home), OR\n",
    "    - `student_count` is less than 130 in Orangeville and she gets a `pay` greater than or equal to \\$26.10/hr\n",
    "- In the event that no one is suitable for the job, just give it to Tim."
   ]
  },
  {
   "cell_type": "code",
   "execution_count": null,
   "metadata": {
    "deletable": false,
    "nbgrader": {
     "cell_type": "code",
     "checksum": "9f59af362ee04b9f5dd613f170102a73",
     "grade": false,
     "grade_id": "cell-ec52730601452f1e",
     "locked": false,
     "schema_version": 3,
     "solution": true,
     "task": false
    }
   },
   "outputs": [],
   "source": [
    "def job_winner(pay_rate, student_count, city):\n",
    "    return \"Tim\"\n"
   ]
  },
  {
   "cell_type": "code",
   "execution_count": null,
   "metadata": {
    "deletable": false,
    "editable": false,
    "nbgrader": {
     "cell_type": "code",
     "checksum": "bcb6e74fc36a454dec22be75287ec5b3",
     "grade": false,
     "grade_id": "cell-14fbed6cf6d21ba1",
     "locked": true,
     "schema_version": 3,
     "solution": false,
     "task": false
    }
   },
   "outputs": [],
   "source": [
    "print(\"Question #1 - Test Case #1:\", \n",
    "      tester(job_winner(25.80, 260, \"Hamilton\"), \"Tim\"))\n",
    "print(\"Question #1 - Test Case #2:\", \n",
    "      tester(job_winner(28.81, 260, \"Hamilton\"), \"Harley\"))\n",
    "print(\"Question #1 - Test Case #3:\", \n",
    "      tester(job_winner(25.80, 281, \"Hamilton\"), \"Jason\"))\n",
    "print(\"Question #1 - Test Case #4:\", \n",
    "      tester(job_winner(25.80, 100, \"Hamilton\"), \"Ivy\"))"
   ]
  },
  {
   "cell_type": "code",
   "execution_count": null,
   "metadata": {
    "deletable": false,
    "editable": false,
    "nbgrader": {
     "cell_type": "code",
     "checksum": "3dad9b7ec1f62429d589a44a49fd908d",
     "grade": true,
     "grade_id": "cell-0c6c3cec43346e42",
     "locked": true,
     "points": 0,
     "schema_version": 3,
     "solution": false,
     "task": false
    }
   },
   "outputs": [],
   "source": [
    "# Don't touch this test case, or the entire test is worth 0"
   ]
  },
  {
   "cell_type": "code",
   "execution_count": null,
   "metadata": {
    "deletable": false,
    "editable": false,
    "nbgrader": {
     "cell_type": "code",
     "checksum": "7956015f0f6789b930e9226e1ee0bf0e",
     "grade": true,
     "grade_id": "cell-e733a9d71babef87",
     "locked": true,
     "points": 0.5,
     "schema_version": 3,
     "solution": false,
     "task": false
    }
   },
   "outputs": [],
   "source": []
  },
  {
   "cell_type": "code",
   "execution_count": null,
   "metadata": {
    "deletable": false,
    "editable": false,
    "nbgrader": {
     "cell_type": "code",
     "checksum": "ad474a4fa1ca48c67409f17b8832082c",
     "grade": true,
     "grade_id": "cell-e43fb26ec28a8d68",
     "locked": true,
     "points": 0.5,
     "schema_version": 3,
     "solution": false,
     "task": false
    }
   },
   "outputs": [],
   "source": []
  },
  {
   "cell_type": "code",
   "execution_count": null,
   "metadata": {
    "deletable": false,
    "editable": false,
    "nbgrader": {
     "cell_type": "code",
     "checksum": "027f71b689621511f3dca441c96ccae9",
     "grade": true,
     "grade_id": "cell-acf8a3f430c02047",
     "locked": true,
     "points": 1,
     "schema_version": 3,
     "solution": false,
     "task": false
    }
   },
   "outputs": [],
   "source": []
  },
  {
   "cell_type": "code",
   "execution_count": null,
   "metadata": {
    "deletable": false,
    "editable": false,
    "nbgrader": {
     "cell_type": "code",
     "checksum": "af46a0031bef34d9de4ba893d65199d8",
     "grade": true,
     "grade_id": "cell-d5f5046e4e9061c9",
     "locked": true,
     "points": 1,
     "schema_version": 3,
     "solution": false,
     "task": false
    }
   },
   "outputs": [],
   "source": []
  },
  {
   "cell_type": "code",
   "execution_count": null,
   "metadata": {
    "deletable": false,
    "editable": false,
    "nbgrader": {
     "cell_type": "code",
     "checksum": "0a7f927c9d8d80f27b7068f06218215c",
     "grade": true,
     "grade_id": "cell-c391289ed5d5c0b6",
     "locked": true,
     "points": 1,
     "schema_version": 3,
     "solution": false,
     "task": false
    }
   },
   "outputs": [],
   "source": []
  },
  {
   "cell_type": "code",
   "execution_count": null,
   "metadata": {
    "deletable": false,
    "editable": false,
    "nbgrader": {
     "cell_type": "code",
     "checksum": "26f80705ecd0a8c768b02767b58ba0b3",
     "grade": true,
     "grade_id": "cell-d515079d28ca4397",
     "locked": true,
     "points": 1,
     "schema_version": 3,
     "solution": false,
     "task": false
    }
   },
   "outputs": [],
   "source": []
  },
  {
   "cell_type": "markdown",
   "metadata": {
    "deletable": false,
    "editable": false,
    "nbgrader": {
     "cell_type": "markdown",
     "checksum": "87d7ca5e9c614df4c9dc8f87bd930ce0",
     "grade": false,
     "grade_id": "cell-300d71cb5d12fb5a",
     "locked": true,
     "schema_version": 3,
     "solution": false,
     "task": false
    }
   },
   "source": [
    "## Question 2 - It's Hard to be the Bard [6 points]\n",
    "\n",
    "Ah Shakespeare, the Bard of Avon, how it must have been hard to come up with the words you wanted to say. Speaking of words, anyone play Wordle? Yeah, that was an interesting change of topic, eh? Well, anyways, Wordle is this fun word game where you get 6 guesses to guess a 5 letter word in a word list. But man oh man, is it sometimes pretty hard. If only there was a way to take what little information I knew about my 5 letter word and filter the word list using it...\n",
    "\n",
    "Wait a minute! This is a class all about coding in Python! I will just have you all do it for me (even though I have to make an instructors solution to do it anyways). Write a Python function called `filter_wordle` that takes in 4 arguments:\n",
    "\n",
    "- `word_list`: This is a list of 5 letter strings that the game uses. You will be filtering this list based on criteria from the other 3 variables.\n",
    "- `starting`: This is a string of letters the word MUST begin with. So if I said `starting=\"adi\"`, then I know for a fact that the first 3 letters are \"adi\" in that EXACT order.\n",
    "- `middle`: This is a set of characters (strings of length 1). We know these appear somewhere in the string, but we don't know where. We can say for a fact, though, that they are not in spot `word[0]` or `word[-1]` because they would be in `starting` or `ending`. They can be anywhere else in the string, in any order.\n",
    "- `ending`: Similar to `starting` these are the letters that we know the string ends with. So if I said `ending=\"eu\"`, then I know for a fact that the last 2 letters are \"eu\" in that EXACT order.\n",
    "\n",
    "Your task is simple: return the `word_list`, but only containing words that match the filter criteria. You can assume that all words are 5 letters, that the `middle` set is length 3 or shorter, and that `starting` and `ending` are length 5 or shorter."
   ]
  },
  {
   "cell_type": "code",
   "execution_count": null,
   "metadata": {
    "deletable": false,
    "nbgrader": {
     "cell_type": "code",
     "checksum": "7d7faf120ea80d6e12bfb0151f94d04e",
     "grade": false,
     "grade_id": "cell-613be96f6fcb7ad7",
     "locked": false,
     "schema_version": 3,
     "solution": true,
     "task": false
    }
   },
   "outputs": [],
   "source": [
    "def filter_wordle(word_list, starting, middle, ending):\n",
    "    return [\"Yeah, I am not the answer\"]\n"
   ]
  },
  {
   "cell_type": "code",
   "execution_count": null,
   "metadata": {
    "deletable": false,
    "editable": false,
    "nbgrader": {
     "cell_type": "code",
     "checksum": "e9fcd651b1ce097555e5a31d92854fbc",
     "grade": false,
     "grade_id": "cell-a9debf9ba3255ab3",
     "locked": true,
     "schema_version": 3,
     "solution": false,
     "task": false
    }
   },
   "outputs": [],
   "source": [
    "# The order of the word list is not important to your grade\n",
    "def sort_word_list(word_list):\n",
    "    return sorted(word_list)\n",
    "word_list = [\n",
    "    \"adieu\", \"caddy\", \"phono\", \"nobby\", \"twang\", \"chica\", \"dummy\"\n",
    "    \"hobby\", \"spike\", \"spill\", \"crush\", \"frown\", \"anger\", \"their\",\n",
    "    \"there\", \"crane\", \"twist\", \"first\", \"swims\", \"spits\", \"great\"\n",
    "]\n",
    "print(\"Question #2 - Test Case #1:\", \n",
    "      tester(\n",
    "          sort_word_list(filter_wordle(word_list, \"t\", {'i'}, \"\")), \n",
    "          sort_word_list([\"their\", \"twist\"])\n",
    "      ))"
   ]
  },
  {
   "cell_type": "code",
   "execution_count": null,
   "metadata": {
    "deletable": false,
    "editable": false,
    "nbgrader": {
     "cell_type": "code",
     "checksum": "4dc9cf14aaaf1dd20abdaa6482158dc8",
     "grade": true,
     "grade_id": "cell-ecb061be07766f5f",
     "locked": true,
     "points": 1,
     "schema_version": 3,
     "solution": false,
     "task": false
    }
   },
   "outputs": [],
   "source": []
  },
  {
   "cell_type": "code",
   "execution_count": null,
   "metadata": {
    "deletable": false,
    "editable": false,
    "nbgrader": {
     "cell_type": "code",
     "checksum": "5bee4aeaa9ad08a0b77cfccb0d87315f",
     "grade": true,
     "grade_id": "cell-68dd788bc7c91cf0",
     "locked": true,
     "points": 1,
     "schema_version": 3,
     "solution": false,
     "task": false
    }
   },
   "outputs": [],
   "source": []
  },
  {
   "cell_type": "code",
   "execution_count": null,
   "metadata": {
    "deletable": false,
    "editable": false,
    "nbgrader": {
     "cell_type": "code",
     "checksum": "10cd6257fbaa41466acd1894a197a19e",
     "grade": true,
     "grade_id": "cell-52608504754418f5",
     "locked": true,
     "points": 1,
     "schema_version": 3,
     "solution": false,
     "task": false
    }
   },
   "outputs": [],
   "source": []
  },
  {
   "cell_type": "code",
   "execution_count": null,
   "metadata": {
    "deletable": false,
    "editable": false,
    "nbgrader": {
     "cell_type": "code",
     "checksum": "3c54eb91b8bf470c864a10c9ec9bca56",
     "grade": true,
     "grade_id": "cell-1c148555326ff6f5",
     "locked": true,
     "points": 1,
     "schema_version": 3,
     "solution": false,
     "task": false
    }
   },
   "outputs": [],
   "source": []
  },
  {
   "cell_type": "code",
   "execution_count": null,
   "metadata": {
    "deletable": false,
    "editable": false,
    "nbgrader": {
     "cell_type": "code",
     "checksum": "e7e103a1f48fb5da5d95c12534ad913c",
     "grade": true,
     "grade_id": "cell-dbb39e0473629115",
     "locked": true,
     "points": 1,
     "schema_version": 3,
     "solution": false,
     "task": false
    }
   },
   "outputs": [],
   "source": []
  },
  {
   "cell_type": "code",
   "execution_count": null,
   "metadata": {
    "deletable": false,
    "editable": false,
    "nbgrader": {
     "cell_type": "code",
     "checksum": "f7d0fa4987d4420573617ebcf7f31c68",
     "grade": true,
     "grade_id": "cell-d2b75be39fa0afb9",
     "locked": true,
     "points": 1,
     "schema_version": 3,
     "solution": false,
     "task": false
    }
   },
   "outputs": [],
   "source": []
  },
  {
   "cell_type": "markdown",
   "metadata": {
    "deletable": false,
    "editable": false,
    "nbgrader": {
     "cell_type": "markdown",
     "checksum": "9979fa67660cbdc4a3fc4627d540a15c",
     "grade": false,
     "grade_id": "cell-16a157f84346f683",
     "locked": true,
     "schema_version": 3,
     "solution": false,
     "task": false
    }
   },
   "source": [
    "## Question 3 - Math is a Mixed Bag [8 points]\n",
    "\n",
    "In this course, the concept of Modular Arithmetic (%) and Integer Division (//) are really easy to explain using Mixed Fractions... But what are mixed fractions? Well, if I gave you the fraction $\\frac{8}{3}$, the Mixed Fraction representation would be $2 \\frac{2}{3}$; all you do is have the whole number from division, and the remaining fraction that couldn't be used.\n",
    "\n",
    "So, what if we wanted you to do things with Mixed Fractions? Well, we would have to define what a Mixed Fractions looks like. Let's say, in Python, a Mixed Fraction is a tuple of 3 **integer** items: `(whole_number, numerator, denominator)`. So the fraction $2 \\frac{3}{4}$ becomes `(2,3,4)`. Now, lt's define some Mixed Fraction arithmetic functions.\n",
    "\n",
    "Your task is to write 4 python functions to perform aritmetic on Mixed Fractions. You can assume that all fractions will share a denominator, so you don't have anything to worry about there. The functions will all operate as given below:\n",
    "\n",
    "- `add(a, b)` [2 points]: Should take in 2 tuples, add them together, and return a tuple representing the result of addition. So $3 \\frac{2}{5} + 5 \\frac{3}{5}$ would become $9 \\frac{0}{5}$.\n",
    "- `subtract(a, b)` [2 points]: Should take in 2 tuples, subtract the second from the first, and return a tuple representing the result. So $3 \\frac{2}{5} - 5 \\frac{3}{5}$ would become $-2 \\frac{1}{5}$.\n",
    "- `multiply(a, b)` [2 points]: Should take in 2 tuples, and return a new tuple that is the result of multiplication. So $3 \\frac{2}{5} * 5 \\frac{3}{5}$ would become $19 \\frac{1}{25}$.\n",
    "- `divide(a, b)` [2 points]: Should take in 2 tuples, and return a new tuple that is the result of division. So $3 \\frac{2}{5} / 5 \\frac{3}{5}$ would become $0 \\frac{17}{28}$. \n",
    "\n",
    "Don't worry about reducing the fraction! We will accept it if the value is correct. So $\\frac{17}{28}$ is fine or $\\frac{85}{140}$ is fine. We don't care. Just make sure, in terms of the percentage that comes from doing division, that the fraction is accurate.\n",
    "\n",
    "**Hint:** Working with a Mixed Fraction sucks. Take my advise and convert these to Improper Fractions to make it easier, than convert back when you are done."
   ]
  },
  {
   "cell_type": "code",
   "execution_count": null,
   "metadata": {
    "deletable": false,
    "nbgrader": {
     "cell_type": "code",
     "checksum": "709045db6d2fdc33fe7cd983403e885e",
     "grade": false,
     "grade_id": "cell-7436cf3b7b94a5d0",
     "locked": false,
     "schema_version": 3,
     "solution": true,
     "task": false
    }
   },
   "outputs": [],
   "source": [
    "def add(a, b):\n",
    "    return (9, 0, 5)\n",
    "\n",
    "def subtract(a, b):\n",
    "    return (-2, 1, 5)\n",
    "\n",
    "def multiply(a, b):\n",
    "    return (19, 1, 25)\n",
    "\n",
    "def divide(a, b):\n",
    "    return (0, 17, 28)\n"
   ]
  },
  {
   "cell_type": "code",
   "execution_count": null,
   "metadata": {
    "deletable": false,
    "editable": false,
    "nbgrader": {
     "cell_type": "code",
     "checksum": "3737fa081028623b97db8dcac6eee743",
     "grade": false,
     "grade_id": "cell-2759aa74c8576acd",
     "locked": true,
     "schema_version": 3,
     "solution": false,
     "task": false
    }
   },
   "outputs": [],
   "source": [
    "frac_a = (3, 2, 5)\n",
    "frac_b = (5, 3, 5)\n",
    "print(\"Question #3 - Test Case #1:\", \n",
    "      tester(\n",
    "          add(frac_a, frac_b) == (9, 0, 5) or \\\n",
    "          add(frac_a, frac_b) == (9, 0, 1), \n",
    "          True))\n",
    "print(\"Question #3 - Test Case #2:\", \n",
    "      tester(subtract(frac_a, frac_b), (-2, 1, 5)))\n",
    "print(\"Question #3 - Test Case #3:\", \n",
    "      tester(multiply(frac_a, frac_b), (19, 1, 25)))\n",
    "print(\"Question #3 - Test Case #4:\", \n",
    "      tester(\n",
    "          divide(frac_a, frac_b) == (0, 85, 140) or \\\n",
    "          divide(frac_a, frac_b) == (0, 17, 28), \n",
    "          True))"
   ]
  },
  {
   "cell_type": "code",
   "execution_count": null,
   "metadata": {
    "deletable": false,
    "editable": false,
    "nbgrader": {
     "cell_type": "code",
     "checksum": "f86f5e73f12a181b0dfb6358d69e3ca6",
     "grade": true,
     "grade_id": "cell-08eaecbd215ee1c5",
     "locked": true,
     "points": 1,
     "schema_version": 3,
     "solution": false,
     "task": false
    }
   },
   "outputs": [],
   "source": []
  },
  {
   "cell_type": "code",
   "execution_count": null,
   "metadata": {
    "deletable": false,
    "editable": false,
    "nbgrader": {
     "cell_type": "code",
     "checksum": "c22092802af7424d59d88b288e13a8e0",
     "grade": true,
     "grade_id": "cell-940ec0487b0daaf7",
     "locked": true,
     "points": 1,
     "schema_version": 3,
     "solution": false,
     "task": false
    }
   },
   "outputs": [],
   "source": []
  },
  {
   "cell_type": "code",
   "execution_count": null,
   "metadata": {
    "deletable": false,
    "editable": false,
    "nbgrader": {
     "cell_type": "code",
     "checksum": "7d3fb628ebdc847f9c38084a19d0630f",
     "grade": true,
     "grade_id": "cell-11574e4955c57a18",
     "locked": true,
     "points": 1,
     "schema_version": 3,
     "solution": false,
     "task": false
    }
   },
   "outputs": [],
   "source": []
  },
  {
   "cell_type": "code",
   "execution_count": null,
   "metadata": {
    "deletable": false,
    "editable": false,
    "nbgrader": {
     "cell_type": "code",
     "checksum": "51f1ab46e0f8aeb14cc12e098bbe8631",
     "grade": true,
     "grade_id": "cell-0b265129e5fabb25",
     "locked": true,
     "points": 1,
     "schema_version": 3,
     "solution": false,
     "task": false
    }
   },
   "outputs": [],
   "source": []
  },
  {
   "cell_type": "code",
   "execution_count": null,
   "metadata": {
    "deletable": false,
    "editable": false,
    "nbgrader": {
     "cell_type": "code",
     "checksum": "06ccdf4f21837da0db217fb67cf00ce6",
     "grade": true,
     "grade_id": "cell-6fd113396a66cb51",
     "locked": true,
     "points": 1,
     "schema_version": 3,
     "solution": false,
     "task": false
    }
   },
   "outputs": [],
   "source": []
  },
  {
   "cell_type": "code",
   "execution_count": null,
   "metadata": {
    "deletable": false,
    "editable": false,
    "nbgrader": {
     "cell_type": "code",
     "checksum": "5f2932a125623f2ec97c5c758a42412c",
     "grade": true,
     "grade_id": "cell-b7125cfd6b0074cc",
     "locked": true,
     "points": 1,
     "schema_version": 3,
     "solution": false,
     "task": false
    }
   },
   "outputs": [],
   "source": []
  },
  {
   "cell_type": "code",
   "execution_count": null,
   "metadata": {
    "deletable": false,
    "editable": false,
    "nbgrader": {
     "cell_type": "code",
     "checksum": "efb07edf522588404c0dc7a994586b45",
     "grade": true,
     "grade_id": "cell-941968da9d4691e5",
     "locked": true,
     "points": 1,
     "schema_version": 3,
     "solution": false,
     "task": false
    }
   },
   "outputs": [],
   "source": []
  },
  {
   "cell_type": "code",
   "execution_count": null,
   "metadata": {
    "deletable": false,
    "editable": false,
    "nbgrader": {
     "cell_type": "code",
     "checksum": "b22cfa0935e661021be54511270a6595",
     "grade": true,
     "grade_id": "cell-a0dd063f3bd51c7a",
     "locked": true,
     "points": 1,
     "schema_version": 3,
     "solution": false,
     "task": false
    }
   },
   "outputs": [],
   "source": []
  },
  {
   "attachments": {
    "image.png": {
     "image/png": "[encoded data removed]"
    }
   },
   "cell_type": "markdown",
   "metadata": {
    "deletable": false,
    "editable": false,
    "nbgrader": {
     "cell_type": "markdown",
     "checksum": "cdfaa1a26abaf9d8a5fb195292d07658",
     "grade": false,
     "grade_id": "cell-5291c17b98bf4d9a",
     "locked": true,
     "schema_version": 3,
     "solution": false,
     "task": false
    }
   },
   "source": [
    "## Question 4 - Confidence is Key [7 points]\n",
    "\n",
    "One of the main objectives of statistics is to take innaccurate measurements and construct a more accurate measurement from them.  If we take repeated measurements of, for example, the mass of a pig, we won't get the same measurement each time due to the innaccuracies in the measurement equipment, the pig shifting position, bombardment by cosmic radiation, and any number of other factors.  Because we are scientists, we do not draw the conclusion that the pig's weight is actually fluctuating.  The pig is considered to have some fixed, true weight, which we may come to a closer and closer approximation of by taking the average of a larger and larger set of measurements.  \n",
    "\n",
    "The 95% Confidence Interval is the range of values within which the true value lies, with a 95% probability.  You can calculate the confidence interval of any percentage, but here we'll focus on 95%.\n",
    "\n",
    "In this question, you will write a function, `shortestInterval`, that takes in a probability distribution list called `probabilityList` that contains 1 or more items and returns the index range of the shortest 95% confidence interval as a tuple in the format `(startIndex, endIndex)`.  \n",
    "\n",
    "Probability distributions are used to show how the likeliness of an outcome changes for different outcomes.  Consider the following probability distribution for the rolling of two six-sided dice.  \n",
    "\n",
    "![image.png](attachment:image.png)\n",
    "\n",
    "7 is the most probable outcome, occuring 1/6 (16.67%) of the time.  All the y values in probability distributions are fractions, and if you sum all the probabilities of all the outcomes, you get 100%.  Because, you know, math.   \n",
    "\n",
    "Finding the shortest 95% confidence interval is simple, just follow these steps.  In general terms, we identify the mode of the distribution, and expand left and right until the sum of the accumulated probabilities is greater than or equal to 95%.\n",
    "1. Select the \"Mode\" of the Probability Distribution List.  For a probability distribution, this is just the element with the largest probability. This will act as your starting point (i.e. your start and end index).\n",
    "2. Look 1 element to the left and 1 element to the right, whichever element is higher in value, move in that direction (i.e. modify your start and end indexes accordingly) and sum up the probabilities. \n",
    "3. If the sum is now greater than or equal to 0.95, it means you have found your 95% confidence interval so you can stop. Otherwise repeat step 2, and look 1 element to the left of your current range, and look 1 element to the right, and move in the direction of the higher value, and keep on doing this until your total sum of probabilities is greater than or equal to 0.95.\n",
    "\n",
    "For example, if you are given the list `[0.02, 0.03, 0.21, 0.18, 0.30, 0.22, 0.04]`:\n",
    "\n",
    "- Your starting point would be at index 4, since `0.30` is the highest element in this list\n",
    "- You would then compare the element on the left (`0.18`) with the element on the right(`0.22`), and move in the right direction since `0.22` is greater. This would make your `(startIndex, endIndex)` look like `(4,5)`.\n",
    "- Since, `0.30+0.22` is not more than or equal to `0.95`, you repeat the previous step, and compare the element on the left of your range (still `0.18`) with the element on the right (`0.04`), and decide to move in the left direction, making your index range `(3,5)`. \n",
    "- These steps are repeated until you get the final answer `(2,6)` as your index range of the shortest 95% confidence interval.\n",
    "\n",
    "NOTE: YOU CAN ASSUME ALL THE VALUES IN YOUR PROBABILITY LIST WILL ALWAYS ADD TO 1, SO THERE WILL ALWAYS BE A 95% CONFIDENCE INTERVAL"
   ]
  },
  {
   "cell_type": "code",
   "execution_count": null,
   "metadata": {
    "deletable": false,
    "nbgrader": {
     "cell_type": "code",
     "checksum": "bda8cea8f8527deade0c562763739780",
     "grade": false,
     "grade_id": "cell-dc49bcdd85a9ecf8",
     "locked": false,
     "schema_version": 3,
     "solution": true,
     "task": false
    }
   },
   "outputs": [],
   "source": [
    "def shortestInterval(probabilityList):\n",
    "    return (0, 0)\n"
   ]
  },
  {
   "cell_type": "code",
   "execution_count": null,
   "metadata": {
    "deletable": false,
    "editable": false,
    "nbgrader": {
     "cell_type": "code",
     "checksum": "7b4b1f99c5bd1538140195b08c672422",
     "grade": false,
     "grade_id": "cell-be48b73bc5e87a9d",
     "locked": true,
     "schema_version": 3,
     "solution": false,
     "task": false
    }
   },
   "outputs": [],
   "source": [
    "print(\"Question #4 - Test Case #1:\", tester(\n",
    "    shortestInterval([0.02, 0.03, 0.21, 0.18, 0.30, 0.22, 0.04]), (2, 6)\n",
    "))\n",
    "\n",
    "print(\"Question #4 - Test Case #2:\", tester(shortestInterval([9.94276E-10,1.49821E-06,7.15111E-05,0.000830508,0.004445998,0.014583097,0.034112752,0.062305393,0.094202283,0.122703466,0.141668916,0.14806173,0.142329071,0.127413467,\n",
    "                                                              0.107270309]), (6, 14)))\n"
   ]
  },
  {
   "cell_type": "code",
   "execution_count": null,
   "metadata": {
    "deletable": false,
    "editable": false,
    "nbgrader": {
     "cell_type": "code",
     "checksum": "b3b06b3d7d3df573f96c16098102ec26",
     "grade": true,
     "grade_id": "cell-ba9c5689c075ec86",
     "locked": true,
     "points": 1,
     "schema_version": 3,
     "solution": false,
     "task": false
    }
   },
   "outputs": [],
   "source": []
  },
  {
   "cell_type": "code",
   "execution_count": null,
   "metadata": {
    "deletable": false,
    "editable": false,
    "nbgrader": {
     "cell_type": "code",
     "checksum": "20d960e04e9568a0c97a1bfa9eb2de36",
     "grade": true,
     "grade_id": "cell-e5862275bbb52c47",
     "locked": true,
     "points": 1,
     "schema_version": 3,
     "solution": false,
     "task": false
    }
   },
   "outputs": [],
   "source": []
  },
  {
   "cell_type": "code",
   "execution_count": null,
   "metadata": {
    "deletable": false,
    "editable": false,
    "nbgrader": {
     "cell_type": "code",
     "checksum": "045526a037b3667595037ee1e2219d05",
     "grade": true,
     "grade_id": "cell-5f6dedef5a5b8e1c",
     "locked": true,
     "points": 1,
     "schema_version": 3,
     "solution": false,
     "task": false
    }
   },
   "outputs": [],
   "source": []
  },
  {
   "cell_type": "code",
   "execution_count": null,
   "metadata": {
    "deletable": false,
    "editable": false,
    "nbgrader": {
     "cell_type": "code",
     "checksum": "c4a12ca4f847c0c567665cbd65d73bc8",
     "grade": true,
     "grade_id": "cell-c9fd10a0f86ed2e6",
     "locked": true,
     "points": 1,
     "schema_version": 3,
     "solution": false,
     "task": false
    }
   },
   "outputs": [],
   "source": []
  },
  {
   "cell_type": "code",
   "execution_count": null,
   "metadata": {
    "deletable": false,
    "editable": false,
    "nbgrader": {
     "cell_type": "code",
     "checksum": "44fd7957ae36dea897cf4964ff341eb0",
     "grade": true,
     "grade_id": "cell-adbd93925d5cc98b",
     "locked": true,
     "points": 1,
     "schema_version": 3,
     "solution": false,
     "task": false
    }
   },
   "outputs": [],
   "source": []
  },
  {
   "cell_type": "code",
   "execution_count": null,
   "metadata": {
    "deletable": false,
    "editable": false,
    "nbgrader": {
     "cell_type": "code",
     "checksum": "888ecec24ec101291204357fa1eca134",
     "grade": true,
     "grade_id": "cell-f0909e89b92a61f6",
     "locked": true,
     "points": 1,
     "schema_version": 3,
     "solution": false,
     "task": false
    }
   },
   "outputs": [],
   "source": []
  },
  {
   "cell_type": "code",
   "execution_count": null,
   "metadata": {
    "deletable": false,
    "editable": false,
    "nbgrader": {
     "cell_type": "code",
     "checksum": "f2127b17e3d9f9d24a33bff120469323",
     "grade": true,
     "grade_id": "cell-db42d6fe82fe8bde",
     "locked": true,
     "points": 1,
     "schema_version": 3,
     "solution": false,
     "task": false
    }
   },
   "outputs": [],
   "source": []
  },
  {
   "cell_type": "markdown",
   "metadata": {
    "deletable": false,
    "editable": false,
    "nbgrader": {
     "cell_type": "markdown",
     "checksum": "98e6451d7f731b231066638f66c4d9fb",
     "grade": false,
     "grade_id": "cell-af1ea962a25f8aa2",
     "locked": true,
     "schema_version": 3,
     "solution": false,
     "task": false
    }
   },
   "source": [
    "## Question 5 - Making a Lion Roar [5 points]\n",
    "\n",
    "Imagine you are given a dictionary that represents an Animal, and you want to make a function that makes an Animal speak. An animal is a dictionary defined as below:\n",
    "\n",
    "```json\n",
    "{\n",
    "    \"Category\": <see list below>\n",
    "    \"Species\": string,\n",
    "    \"Power\": int,\n",
    "    \"Cry\": string\n",
    "}\n",
    "```\n",
    "\n",
    "Category can be one of \"Canine\" or \"Elk\" or \"Insect\" or \"Bird\" or \"Sea Creature\" or \"Other\".\n",
    "\n",
    "Our job is to customize what each animal says based on this information. Write a function, `make_em_yell`, that takes in an animal dictionary and returns a string following the rules below:\n",
    "\n",
    "- For Canines:\n",
    "    - If a canine has less than 3 power, it is considered weak and will bark. This means you should return a string like `\"The {Species} barks {Cry}\"` where `Species` is the animal species `Cry` is what the animal cries.\n",
    "    - If a canine has 3 or more power, it is considered strong and will growl. This means you should return a string like `\"The {Species} growls {Cry}\"` where `Species` is the animal species `Cry` is what the animal cries.\n",
    "- For Elk:\n",
    "    - If an elk has 1 power, it is considered weak and will yip. This means you should return a string like `\"The {Species} yips a {Cry}\"` where `Species` is the animal species `Cry` is what the animal cries.\n",
    "    - If an elk has 2 or more power, it is considered strong and will scream. This means you should return a string like `\"The {Species} screams {Cry}\"` where `Species` is the animal species `Cry` is what the animal cries.\n",
    "- For Insects:\n",
    "    - An insect cannot speak or yell, and thus is silent. Return an empty string regardless of the animal information.\n",
    "- For Birds:\n",
    "    - If a bird has 2 or less power, it is considered weak and will squawk. This means you should return a string like `\"The {Species} squawks a little {Cry}\"` where `Species` is the animal species `Cry` is what the animal cries.\n",
    "    - If a bird has 3 or more power, it is considered strong and will kaw. This means you should return a string like `\"The {Species} kaws a loud {Cry}\"` where `Species` is the animal species `Cry` is what the animal cries.\n",
    "- For Sea Creatures:\n",
    "    - If a Sea Creature has 3 or less power, it is considered weak and will blub. This means you should return a string like `\"The {Species} blubs {Cry} meakly\"` where `Species` is the animal species `Cry` is what the animal cries.\n",
    "    - If a Sea Creature has 4 or more power, it is considered strong and will shout. This means you should return a string like `\"The {Species} shouts a {Cry}\"` where `Species` is the animal species `Cry` is what the animal cries.\n",
    "- For Others:\n",
    "    - Just simply return `\"The {Species} says {Cry}\"` where `Species` is the animal species `Cry` is what the animal cries."
   ]
  },
  {
   "cell_type": "code",
   "execution_count": null,
   "metadata": {
    "deletable": false,
    "nbgrader": {
     "cell_type": "code",
     "checksum": "75d3b2d3033e6b1da32e82c70061ba2e",
     "grade": false,
     "grade_id": "cell-d62514b61c711265",
     "locked": false,
     "schema_version": 3,
     "solution": true,
     "task": false
    }
   },
   "outputs": [],
   "source": [
    "def make_em_yell(animal):\n",
    "    return \"Edit me\"\n"
   ]
  },
  {
   "cell_type": "code",
   "execution_count": null,
   "metadata": {
    "deletable": false,
    "editable": false,
    "nbgrader": {
     "cell_type": "code",
     "checksum": "168eeff59e0df81f18540caaa6887fd9",
     "grade": false,
     "grade_id": "cell-525731c1d1b8a3d3",
     "locked": true,
     "schema_version": 3,
     "solution": false,
     "task": false
    }
   },
   "outputs": [],
   "source": [
    "wolf = {\n",
    "    \"Category\": \"Canine\",\n",
    "    \"Species\": \"Wolf\",\n",
    "    \"Power\": 3,\n",
    "    \"Cry\": \"Awoooooo!\"\n",
    "}\n",
    "print(\"Question #5 - Test Case #1:\", tester(\n",
    "    make_em_yell(wolf), \"The Wolf growls Awoooooo!\"\n",
    "))\n",
    "fawn = {\n",
    "    \"Category\": \"Elk\",\n",
    "    \"Species\": \"Elk Fawn\",\n",
    "    \"Power\": 1,\n",
    "    \"Cry\": \"Eek.\"\n",
    "}\n",
    "print(\"Question #5 - Test Case #2:\", tester(\n",
    "    make_em_yell(fawn), \"The Elk Fawn yips a Eek.\"\n",
    "))\n",
    "otter = {\n",
    "    \"Category\": \"Sea Creature\",\n",
    "    \"Species\": \"Otter\",\n",
    "    \"Power\": 2,\n",
    "    \"Cry\": \"Squee.\"\n",
    "}\n",
    "print(\"Question #5 - Test Case #3:\", tester(\n",
    "    make_em_yell(otter), \"The Otter blubs Squee. meakly\"\n",
    "))"
   ]
  },
  {
   "cell_type": "code",
   "execution_count": null,
   "metadata": {
    "deletable": false,
    "editable": false,
    "nbgrader": {
     "cell_type": "code",
     "checksum": "0a5b42da83c237a50f66539924787090",
     "grade": true,
     "grade_id": "cell-2aa1e7a2d2be1505",
     "locked": true,
     "points": 1,
     "schema_version": 3,
     "solution": false,
     "task": false
    }
   },
   "outputs": [],
   "source": []
  },
  {
   "cell_type": "code",
   "execution_count": null,
   "metadata": {
    "deletable": false,
    "editable": false,
    "nbgrader": {
     "cell_type": "code",
     "checksum": "382de8ee8689bf77f79b74dff6f30eb9",
     "grade": true,
     "grade_id": "cell-54efee433c5c20f0",
     "locked": true,
     "points": 1,
     "schema_version": 3,
     "solution": false,
     "task": false
    }
   },
   "outputs": [],
   "source": []
  },
  {
   "cell_type": "code",
   "execution_count": null,
   "metadata": {
    "deletable": false,
    "editable": false,
    "nbgrader": {
     "cell_type": "code",
     "checksum": "5377b981e66d7f0fd2a5edc79765047b",
     "grade": true,
     "grade_id": "cell-d7b1b611582108b4",
     "locked": true,
     "points": 1,
     "schema_version": 3,
     "solution": false,
     "task": false
    }
   },
   "outputs": [],
   "source": []
  },
  {
   "cell_type": "code",
   "execution_count": null,
   "metadata": {
    "deletable": false,
    "editable": false,
    "nbgrader": {
     "cell_type": "code",
     "checksum": "0d8620bf61ba0bdf0815ede971bb2179",
     "grade": true,
     "grade_id": "cell-9a005e65f017a04f",
     "locked": true,
     "points": 1,
     "schema_version": 3,
     "solution": false,
     "task": false
    }
   },
   "outputs": [],
   "source": []
  },
  {
   "cell_type": "code",
   "execution_count": null,
   "metadata": {
    "deletable": false,
    "editable": false,
    "nbgrader": {
     "cell_type": "code",
     "checksum": "40e548a9d91c5ec360c5a037f51e093b",
     "grade": true,
     "grade_id": "cell-aec664ba2925f24a",
     "locked": true,
     "points": 1,
     "schema_version": 3,
     "solution": false,
     "task": false
    }
   },
   "outputs": [],
   "source": []
  },
  {
   "cell_type": "markdown",
   "metadata": {
    "deletable": false,
    "editable": false,
    "nbgrader": {
     "cell_type": "markdown",
     "checksum": "c13bc56b1840de753fbfbc65b1cd63b5",
     "grade": false,
     "grade_id": "cell-6c3610ffd1828d1b",
     "locked": true,
     "schema_version": 3,
     "solution": false,
     "task": false
    }
   },
   "source": [
    "## Bonus - Comic-Con Schedules Suck [5 points]\n",
    "\n",
    "I am not sure if anyone here has been to Comic-Con or to AnimeNorth, but the panels are scheduled REALLY wonky. Basically, on any given day, a schedule could look something like this:\n",
    "\n",
    "![An Example Comic-Con Schedule](./schedule.jpg \"Schedule Example\")\n",
    "\n",
    "Now, in the above example, each of those blocks are a potential event or panel you might want to visit, but as you can see, they overlap. You an't be in two places at once, and you really want to attend as many panels as physically possible. Today, I am going to introduce an Greedy Procedure meant to solve problems like these.\n",
    "\n",
    "The idea is simple: \n",
    "\n",
    "1. You are given a bunch of events and you pick the event that ends as close to the current time as possible. \n",
    "2. Once this event is picked, you attend it and delete all of the events that you would miss. \n",
    "3. Time progresses and you repeat until there are no events left.\n",
    "\n",
    "Let's define an event in Python as a tuple of 2 integers, `(start, end)`. Our panels will begin promptly at 9:00 AM in the morning and will all be finished by 8:00 PM, and times are kept in military time, so our tuples will be composed of numbers between 9 and 20.\n",
    "\n",
    "Write a Python function, `schedule_events`, that takes in only 1 argument.\n",
    "- `events`: \n",
    "    - This is a list of \"events\". \n",
    "    - Remember, an event is a tuple of 2 integers as defned above. \n",
    "    - You cannot assume that the list of events is populated. Many comic-con schedules can be canceled, which can lead to an empty list of events.\n",
    "    \n",
    "You job is to return a list of all the events you should attend following the instructions given. \n",
    "\n",
    "To be absolutely clear as well, this problem is **recursive**. Attend event, delete events you can't attend, repeat. Your list of events will shrink with every event you attend. However, I am only going to deduct 1 mark for not using recursion, since this question is pretty hard. If you can do it with loops, then you still get 4/5 here.\n",
    "\n",
    "**Hint:** You have been given an event sorter to use, but you may want to make more functions. For example, make a function that checks if two events overlap each other. Maybe make a function that deletes events that overlap (if any exist). Stuff like that. Take this in pieces or you have no chance of solving it period."
   ]
  },
  {
   "cell_type": "code",
   "execution_count": null,
   "metadata": {
    "deletable": false,
    "nbgrader": {
     "cell_type": "code",
     "checksum": "ee79d0a556c876f3f98f9d41d2cf6bc2",
     "grade": false,
     "grade_id": "cell-4f60b58f58dbebd1",
     "locked": false,
     "schema_version": 3,
     "solution": true,
     "task": false
    }
   },
   "outputs": [],
   "source": [
    "def sort_events(events):\n",
    "    return sorted(events, key=lambda e: (e[1], e[0]))\n",
    "\n",
    "def schedule_events(events):\n",
    "    return []\n"
   ]
  },
  {
   "cell_type": "code",
   "execution_count": null,
   "metadata": {
    "deletable": false,
    "editable": false,
    "nbgrader": {
     "cell_type": "code",
     "checksum": "5bfb406e8d59479bc52028e752a327d4",
     "grade": false,
     "grade_id": "cell-d20654a05189bd71",
     "locked": true,
     "schema_version": 3,
     "solution": false,
     "task": false
    }
   },
   "outputs": [],
   "source": [
    "# The order of the events doesn't matter, so we use this for grading\n",
    "def sort_events(events):\n",
    "    return sorted(events, key=lambda e: (e[1], e[0]))\n",
    "\n",
    "print(\"Bonus - Test Case #1:\",\n",
    "      tester(\n",
    "          sort_events(schedule_events([\n",
    "              (9, 11), (11, 13), (13, 15), (16, 18), (18, 20),\n",
    "              (9, 13), (15, 19),\n",
    "              (9, 10), (11, 12), (12, 13), (13, 14), (16, 17), (18, 19),\n",
    "              (9, 11), (11, 13), (13, 15), (15, 17),\n",
    "          ])), \n",
    "          sort_events([\n",
    "              # No events from the top row of the example\n",
    "              # No events from the second row of the example\n",
    "              (9, 10), (11, 12), (12, 13), (13, 14), (18, 19),\n",
    "              (15, 17)\n",
    "          ])\n",
    "      ))\n",
    "print(\"Bonus - Test Case #2:\",\n",
    "      tester(\n",
    "          sort_events(schedule_events([(9, 11), (11, 13), (13, 15), (16, 18), (18, 20)])), \n",
    "          sort_events([(9, 11), (11, 13), (13, 15), (16, 18), (18, 20)])\n",
    "      ))\n",
    "print(\"Bonus - Test Case #3:\",\n",
    "      tester(\n",
    "          sort_events(schedule_events([\n",
    "              (9, 13), (13, 16), (16, 18), (18, 19), \n",
    "              (10, 11), (13, 15), (17, 19), (19, 20), \n",
    "              (9, 10), (11, 17), (17, 20)\n",
    "          ])), \n",
    "          sort_events([\n",
    "              (16, 18), (18, 19),\n",
    "              (10, 11), (13, 15), (19, 20), \n",
    "              (9, 10)\n",
    "          ])\n",
    "      ))"
   ]
  },
  {
   "cell_type": "code",
   "execution_count": null,
   "metadata": {
    "deletable": false,
    "editable": false,
    "nbgrader": {
     "cell_type": "code",
     "checksum": "59ddb91174a64d83477ac15e93c14158",
     "grade": true,
     "grade_id": "cell-47a67d696cdae7c8",
     "locked": true,
     "points": 1,
     "schema_version": 3,
     "solution": false,
     "task": false
    }
   },
   "outputs": [],
   "source": []
  },
  {
   "cell_type": "code",
   "execution_count": null,
   "metadata": {
    "deletable": false,
    "editable": false,
    "nbgrader": {
     "cell_type": "code",
     "checksum": "aae560ecb37bc6f5f3ad444f34838f15",
     "grade": true,
     "grade_id": "cell-fc9db2e73387a2fa",
     "locked": true,
     "points": 0.5,
     "schema_version": 3,
     "solution": false,
     "task": false
    }
   },
   "outputs": [],
   "source": []
  },
  {
   "cell_type": "code",
   "execution_count": null,
   "metadata": {
    "deletable": false,
    "editable": false,
    "nbgrader": {
     "cell_type": "code",
     "checksum": "3e962068bc9fc2c91cde40c6afba2748",
     "grade": true,
     "grade_id": "cell-e1ec94deb270ddab",
     "locked": true,
     "points": 0.5,
     "schema_version": 3,
     "solution": false,
     "task": false
    }
   },
   "outputs": [],
   "source": []
  },
  {
   "cell_type": "code",
   "execution_count": null,
   "metadata": {
    "deletable": false,
    "editable": false,
    "nbgrader": {
     "cell_type": "code",
     "checksum": "7e4b7966ba512353f41219ffa44fd70c",
     "grade": true,
     "grade_id": "cell-3bc6056f57d13c18",
     "locked": true,
     "points": 1,
     "schema_version": 3,
     "solution": false,
     "task": false
    }
   },
   "outputs": [],
   "source": []
  },
  {
   "cell_type": "code",
   "execution_count": null,
   "metadata": {
    "deletable": false,
    "editable": false,
    "nbgrader": {
     "cell_type": "code",
     "checksum": "83a5d32ac2ece6b9d3d71fbd0ba443a1",
     "grade": true,
     "grade_id": "cell-dda18e8ee9c25c50",
     "locked": true,
     "points": 1,
     "schema_version": 3,
     "solution": false,
     "task": false
    }
   },
   "outputs": [],
   "source": []
  },
  {
   "cell_type": "code",
   "execution_count": null,
   "metadata": {
    "deletable": false,
    "editable": false,
    "nbgrader": {
     "cell_type": "code",
     "checksum": "ff7bbab2c32081e1b3fb02252fbb0b86",
     "grade": true,
     "grade_id": "cell-357fb6b87f0f958f",
     "locked": true,
     "points": 1,
     "schema_version": 3,
     "solution": false,
     "task": false
    }
   },
   "outputs": [],
   "source": []
  }
 ],
 "metadata": {
  "kernelspec": {
   "display_name": "Python 3",
   "language": "python",
   "name": "python3"
  },
  "language_info": {
   "codemirror_mode": {
    "name": "ipython",
    "version": 3
   },
   "file_extension": ".py",
   "mimetype": "text/x-python",
   "name": "python",
   "nbconvert_exporter": "python",
   "pygments_lexer": "ipython3",
   "version": "3.8.5"
  }
 },
 "nbformat": 4,
 "nbformat_minor": 4
}
